{
 "cells": [
  {
   "cell_type": "code",
   "metadata": {
    "ExecuteTime": {
     "end_time": "2025-08-11T16:32:25.400378Z",
     "start_time": "2025-08-11T16:32:25.397449Z"
    }
   },
   "source": [
    "from langchain_core.chat_history import InMemoryChatMessageHistory  # 메모리에 대화 기록을 저장하는 클래스\n",
    "from langchain_core.runnables.history import RunnableWithMessageHistory  # 메시지 기록을 활용해 실행 가능한 래퍼wrapper 클래스\n",
    "from langchain_openai import ChatOpenAI  # 오픈AI 모델을 사용하는 랭체인 챗봇 클래스\n",
    "from langchain_core.messages import HumanMessage\n",
    "\n",
    "model = ChatOpenAI(model=\"gpt-4o-mini\")\n",
    "\n",
    "# 세션별 대화 기록을 저장할 딕셔너리\n",
    "store = {}\n",
    "\n",
    "# 세션 ID에 따라 대화 기록을 가져오는 함수\n",
    "def get_session_history(session_id: str):\n",
    "    # 만약 해당 세션 ID가 store에 없으면, 새로 생성해 추가함\n",
    "    if session_id not in store:\n",
    "        store[session_id] = InMemoryChatMessageHistory()  # 메모리에 대화 기록을 저장하는 객체 생성\n",
    "    return store[session_id]  # 해당 세션의 대화 기록을 반환\n",
    "\n",
    "# 모델 실행 시 대화 기록을 함께 전달하는 래퍼 객체 생성\n",
    "with_message_history = RunnableWithMessageHistory(model, get_session_history)"
   ],
   "outputs": [],
   "execution_count": 23
  },
  {
   "cell_type": "code",
   "metadata": {
    "ExecuteTime": {
     "end_time": "2025-08-11T16:32:37.319018Z",
     "start_time": "2025-08-11T16:32:33.180658Z"
    }
   },
   "source": [
    "config = {\"configurable\": {\"session_id\": \"abc2\"}}  # 세션 ID를 설정하는 config 객체 생성\n",
    "\n",
    "response = with_message_history.invoke(\n",
    "    [HumanMessage(content=\"안녕? 나는 이경석이야.\")],\n",
    "    config=config,\n",
    ")\n",
    "\n",
    "print(response.content)"
   ],
   "outputs": [
    {
     "name": "stdout",
     "output_type": "stream",
     "text": [
      "안녕하세요, 이경석님! 만나서 반갑습니다. 어떻게 도와드릴까요?\n"
     ]
    }
   ],
   "execution_count": 24
  },
  {
   "cell_type": "code",
   "metadata": {
    "ExecuteTime": {
     "end_time": "2025-08-11T16:32:39.453193Z",
     "start_time": "2025-08-11T16:32:38.554388Z"
    }
   },
   "source": [
    "response = with_message_history.invoke(\n",
    "    [HumanMessage(content=\"내 이름이 뭐지?\")],\n",
    "    config=config,\n",
    ")\n",
    "\n",
    "print(response.content)"
   ],
   "outputs": [
    {
     "name": "stdout",
     "output_type": "stream",
     "text": [
      "당신의 이름은 이경석입니다. 맞나요?\n"
     ]
    }
   ],
   "execution_count": 25
  },
  {
   "cell_type": "code",
   "metadata": {
    "ExecuteTime": {
     "end_time": "2025-08-11T16:32:48.052357Z",
     "start_time": "2025-08-11T16:32:46.682952Z"
    }
   },
   "source": [
    "config = {\"configurable\": {\"session_id\": \"abc3\"}}\n",
    "\n",
    "response = with_message_history.invoke(\n",
    "    [HumanMessage(content=\"내 이름이 뭐지?\")],\n",
    "    config=config,\n",
    ")\n",
    "\n",
    "print(response.content)"
   ],
   "outputs": [
    {
     "name": "stdout",
     "output_type": "stream",
     "text": [
      "죄송하지만, 당신의 이름을 알 수 있는 정보가 없습니다. 누구신지 말씀해 주시면 좋겠습니다!\n"
     ]
    }
   ],
   "execution_count": 26
  },
  {
   "cell_type": "code",
   "metadata": {
    "ExecuteTime": {
     "end_time": "2025-08-11T16:33:01.753511Z",
     "start_time": "2025-08-11T16:33:00.482154Z"
    }
   },
   "source": [
    "config = {\"configurable\": {\"session_id\": \"abc2\"}}\n",
    "\n",
    "response = with_message_history.invoke(\n",
    "    [HumanMessage(content=\"아까 우리가 무슨 이야기를 나눴지?\")],\n",
    "    config=config,\n",
    ")\n",
    "\n",
    "print(response.content)"
   ],
   "outputs": [
    {
     "name": "stdout",
     "output_type": "stream",
     "text": [
      "우리는 당신의 이름이 이경석이라는 것에 대해 이야기했습니다. 추가로 궁금한 것이나 다른 주제로 이야기하고 싶으신 것이 있나요?\n"
     ]
    }
   ],
   "execution_count": 27
  },
  {
   "cell_type": "code",
   "metadata": {
    "ExecuteTime": {
     "end_time": "2025-08-11T16:33:12.660391Z",
     "start_time": "2025-08-11T16:33:06.082057Z"
    }
   },
   "source": [
    "config = {\"configurable\": {\"session_id\": \"abc2\"}}\n",
    "\n",
    "for r in with_message_history.stream(\n",
    "    [HumanMessage(content = \"내가 어느 나라 사람인지 맞춰보고, 그 나라의 문화에 대해 말해봐\")],\n",
    "    config=config,\n",
    "):\n",
    "    print(r.content, end=\"|\")"
   ],
   "outputs": [
    {
     "name": "stdout",
     "output_type": "stream",
     "text": [
      "|이|름|이| \"|이|경|석|\"|인| 경우|,| 한국|에서| 흔|한| 이름| 중| 하나|입니다|.| 그러|므로| 당신|은| 한국| 사람|일| 가능|성이| 높|습니다|.| \n",
      "\n",
      "|한국|의| 문화|에| 대해| 간|단|히| 말씀|드|리|자|면|:\n",
      "\n",
      "|1|.| **|음|식|**|:| 한국| 음식|은| 다양|하고| 맛|있|습니다|.| 김|치|,| 비|빔|밥|,| 불|고|기| 및| 떡|볶|이| 등이| 유명|합니다|.| 한국|의| 음식| 문화|는| 발|효| 음식|이| 많은| 특징|이| 있습니다|.\n",
      "\n",
      "|2|.| **|예|절|과| 존|경|**|:| 한국| 문화|에서는| 예|절|과| 존|경|이| 중요|합니다|.| 나|이가| 많은| 사람|에게| 존|경|을| 표|하고|,| 식|사| 등| 여러| 상황|에서| 예|절|을| 지|키|는| 것이| 중요|합니다|.\n",
      "\n",
      "|3|.| **|명|절|**|:| 한국|에는| 설|날|(|새|해|)|과| 추|석|(|가|을| 대|명|절|)| 등| 전|통| 명|절|이| 있습니다|.| 이|때| 가족|이| 모|여| 특별|한| 음|식을| 나|누|고|,| 조|상|에게| 제|사를| 지|내|는| 전|통|이| 있습니다|.\n",
      "\n",
      "|4|.| **|K|-|POP|과| 대|중|문화|**|:| 최근| 몇| 년| 동안| K|-|POP|과| 한국| 드|라마|,| 영화|가| 세계|적으로| 인|기를| 끌|고| 있습니다|.| BTS|와| 블|랙|핑|크|와| 같은| 아이|돌| 그룹|은| 글로벌| 팬|층|을| 형|성|하고| 있습니다|.\n",
      "\n",
      "|더| 궁|금|한| 점|이나| 다른| 주|제로| 이야기|하고| 싶|으|시면| 말씀|해| 주세요|!||"
     ]
    }
   ],
   "execution_count": 28
  },
  {
   "cell_type": "code",
   "execution_count": null,
   "metadata": {},
   "outputs": [],
   "source": []
  }
 ],
 "metadata": {
  "kernelspec": {
   "display_name": "venv",
   "language": "python",
   "name": "python3"
  },
  "language_info": {
   "codemirror_mode": {
    "name": "ipython",
    "version": 3
   },
   "file_extension": ".py",
   "mimetype": "text/x-python",
   "name": "python",
   "nbconvert_exporter": "python",
   "pygments_lexer": "ipython3",
   "version": "3.12.9"
  }
 },
 "nbformat": 4,
 "nbformat_minor": 2
}
